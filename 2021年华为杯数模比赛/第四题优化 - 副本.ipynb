{
 "cells": [
  {
   "cell_type": "code",
   "execution_count": 43,
   "metadata": {
    "ExecuteTime": {
     "end_time": "2021-10-17T02:12:05.646655Z",
     "start_time": "2021-10-17T02:12:05.639653Z"
    }
   },
   "outputs": [],
   "source": [
    "from pandas import Series,DataFrame\n",
    "from numpy import *\n",
    "import numpy as np\n",
    "import pandas as pd\n",
    "import pandas\n",
    "import codecs\n",
    "import torch \n",
    "import torch.nn as nn \n",
    "from torch.autograd import Variable \n",
    "import torch.utils.data as Data \n",
    "import torchvision \n",
    "import matplotlib.pyplot as plt \n",
    "import csv\n",
    "from sklearn.model_selection import cross_val_score,train_test_split\n",
    "\n",
    "from sklearn.preprocessing import StandardScaler\n",
    "from sklearn.model_selection import train_test_split\n",
    "import matplotlib.pyplot as plt\n",
    "from sklearn.svm import SVR \n",
    "from sklearn.metrics import mean_squared_error \n",
    "from sklearn.metrics import accuracy_score\n",
    "from sklearn.metrics import confusion_matrix\n",
    "from sklearn.metrics import classification_report\n",
    "from sklearn.metrics import explained_variance_score\n",
    "from sklearn import metrics\n",
    "from sklearn.metrics import mean_absolute_error # 平方绝对误差\n",
    "import random\n"
   ]
  },
  {
   "cell_type": "code",
   "execution_count": 44,
   "metadata": {
    "ExecuteTime": {
     "end_time": "2021-10-17T02:12:11.161528Z",
     "start_time": "2021-10-17T02:12:07.479013Z"
    }
   },
   "outputs": [],
   "source": [
    "df = pd.read_excel(r'sel_all _1.xlsx',header =0)"
   ]
  },
  {
   "cell_type": "code",
   "execution_count": 45,
   "metadata": {
    "ExecuteTime": {
     "end_time": "2021-10-17T02:12:11.177532Z",
     "start_time": "2021-10-17T02:12:11.163528Z"
    }
   },
   "outputs": [],
   "source": [
    "feature = df[['LipoaffinityIndex','MLogP','maxHsOH','minsssN','MDEC-23','nC','maxssO',\n",
    "             'minHsOH','BCUTc-1l','maxsssN','MLFER_A','minssO','SHsOH',\n",
    "              'SsOH','maxsOH','ATSp5','SwHBa','C1SP2','nHBAcc','minHBint5']]\n",
    "#feature = df[['C1SP2','nHBAcc','ATSc2','MDEC-23','C3SP2','nHBAcc_Lipinski','ATSc1',\n",
    "#              'ETA_BetaP_s','BCUTc-1h']]\n",
    "\n"
   ]
  },
  {
   "cell_type": "code",
   "execution_count": 46,
   "metadata": {
    "ExecuteTime": {
     "end_time": "2021-10-17T02:12:11.193535Z",
     "start_time": "2021-10-17T02:12:11.179531Z"
    }
   },
   "outputs": [],
   "source": [
    "pIC50 = df.values[:, -1]\n",
    "pIC50 = pd.DataFrame(pIC50)"
   ]
  },
  {
   "cell_type": "code",
   "execution_count": 5,
   "metadata": {
    "ExecuteTime": {
     "end_time": "2021-10-17T01:42:54.955934Z",
     "start_time": "2021-10-17T01:42:54.940931Z"
    }
   },
   "outputs": [],
   "source": [
    "class ANN(nn.Module):\n",
    "    def __init__(self):\n",
    "        super(ANN, self).__init__()\n",
    "        self.mlp = torch.nn.Sequential(\n",
    "            torch.nn.Linear(20, 1000),\n",
    "            torch.nn.Dropout(0.2),\n",
    "            torch.nn.ReLU(),\n",
    "            torch.nn.Linear(1000, 800),\n",
    "            torch.nn.Dropout(0.2),\n",
    "            torch.nn.ReLU(),\n",
    "            torch.nn.Linear(800, 600),\n",
    "            torch.nn.Dropout(0.2),\n",
    "            torch.nn.ReLU(),\n",
    "            torch.nn.Linear(600, 500),\n",
    "            torch.nn.Dropout(0.2),\n",
    "            torch.nn.ReLU(),\n",
    "            torch.nn.Linear(500, 300),\n",
    "            torch.nn.Dropout(0.2),\n",
    "            torch.nn.ReLU(),\n",
    "            torch.nn.Linear(300, 250),\n",
    "            torch.nn.Dropout(0.2),\n",
    "            torch.nn.ReLU(),\n",
    "            torch.nn.Linear(250, 1)\n",
    "        )\n",
    "\n",
    "        # init\n",
    "\n",
    "    def forward(self, x):\n",
    "        x = self.mlp(x)\n",
    "        return x\n",
    "#model_dict=torch.load(\"ANN.pth\")"
   ]
  },
  {
   "cell_type": "code",
   "execution_count": 24,
   "metadata": {
    "ExecuteTime": {
     "end_time": "2021-10-17T01:41:41.290714Z",
     "start_time": "2021-10-17T01:41:41.272710Z"
    }
   },
   "outputs": [],
   "source": [
    "feature = feature.astype(float)\n",
    "feature = torch.from_numpy(feature.values)\n",
    "feature = feature.float()\n",
    "pIC50 = pIC50.astype(float)\n",
    "pIC50 = torch.from_numpy(pIC50.values)\n",
    "pIC50 = pIC50.float()\n"
   ]
  },
  {
   "cell_type": "code",
   "execution_count": 25,
   "metadata": {
    "ExecuteTime": {
     "end_time": "2021-10-17T01:41:43.141194Z",
     "start_time": "2021-10-17T01:41:43.116188Z"
    }
   },
   "outputs": [],
   "source": [
    "lossData=[[]]\n",
    "model = ANN()"
   ]
  },
  {
   "cell_type": "code",
   "execution_count": 15,
   "metadata": {
    "ExecuteTime": {
     "end_time": "2021-10-16T05:05:03.926734Z",
     "start_time": "2021-10-16T05:04:29.074884Z"
    }
   },
   "outputs": [
    {
     "name": "stdout",
     "output_type": "stream",
     "text": [
      "epoch\t loss\t\n",
      "0"
     ]
    },
    {
     "name": "stderr",
     "output_type": "stream",
     "text": [
      "<ipython-input-15-db6a3aa0ddb1>:12: UserWarning: To copy construct from a tensor, it is recommended to use sourceTensor.clone().detach() or sourceTensor.clone().detach().requires_grad_(True), rather than torch.tensor(sourceTensor).\n",
      "  xx = torch.tensor(feature[start:end], dtype = torch.float, requires_grad = False)\n",
      "<ipython-input-15-db6a3aa0ddb1>:13: UserWarning: To copy construct from a tensor, it is recommended to use sourceTensor.clone().detach() or sourceTensor.clone().detach().requires_grad_(True), rather than torch.tensor(sourceTensor).\n",
      "  yy = torch.tensor(pIC50[start:end], dtype = torch.float, requires_grad = False)\n"
     ]
    },
    {
     "name": "stdout",
     "output_type": "stream",
     "text": [
      " 1.5836023\n",
      "10 1.1053729\n",
      "20 1.1023707\n",
      "30 1.1978526\n",
      "40 1.094581\n",
      "50 1.1963027\n",
      "60 1.2005458\n",
      "70 1.1519866\n",
      "80 1.1269196\n",
      "90 1.1101768\n",
      "100 1.0952128\n",
      "110 1.2230247\n",
      "120 1.0663292\n",
      "130 1.0883863\n",
      "140 1.2265183\n",
      "150 1.0828196\n",
      "160 1.1023023\n",
      "170 1.102582\n",
      "180 1.081222\n",
      "190 1.0940244\n"
     ]
    }
   ],
   "source": [
    "loss_func = nn.MSELoss()\n",
    "optim = torch.optim.Adam(model.parameters(), 0.0001)\n",
    "batch_size =64\n",
    "epochs = 200\n",
    "print(\"epoch\\t loss\\t\")\n",
    "losses = []\n",
    "for i in range(epochs):\n",
    "     batch_loss = []\n",
    "    # start和end分别是提取一个batch数据的起始和终止下标\n",
    "     for start in range(0, len(feature), batch_size):\n",
    "        end = start + batch_size if start + batch_size < len(feature) else len(feature)\n",
    "        xx = torch.tensor(feature[start:end], dtype = torch.float, requires_grad = False)\n",
    "        yy = torch.tensor(pIC50[start:end], dtype = torch.float, requires_grad = False)\n",
    "        predict = model(xx)\n",
    "        loss =loss_func(predict, yy)\n",
    "        optim.zero_grad()\n",
    "        loss.backward()\n",
    "        optim.step()\n",
    "        batch_loss.append(loss.data.numpy())\n",
    "    \n",
    "    # 每隔100步输出一下损失值（loss）\n",
    "     if i % 10==0:\n",
    "        losses.append(np.mean(batch_loss))\n",
    "        print(i, np.mean(batch_loss))"
   ]
  },
  {
   "cell_type": "code",
   "execution_count": 17,
   "metadata": {
    "ExecuteTime": {
     "end_time": "2021-10-16T05:05:29.761756Z",
     "start_time": "2021-10-16T05:05:29.739752Z"
    }
   },
   "outputs": [],
   "source": [
    "torch.save(model,\"ANN1.pth\")"
   ]
  },
  {
   "cell_type": "code",
   "execution_count": 71,
   "metadata": {
    "ExecuteTime": {
     "end_time": "2021-10-17T02:50:06.465269Z",
     "start_time": "2021-10-17T02:50:06.439264Z"
    }
   },
   "outputs": [],
   "source": [
    "class PSO:\n",
    "    def __init__(self, parameters):\n",
    "        \"\"\"\n",
    "        particle swarm optimization\n",
    "        parameter: a list type, like [NGEN, pop_size, var_num_min, var_num_max]\n",
    "        \"\"\"\n",
    "        # 初始化\n",
    "        self.NGEN = parameters[0]    # 迭代的代数\n",
    "        self.pop_size = parameters[1]    # 种群大小\n",
    "        self.var_num = len(parameters[2])     # 变量个数\n",
    "        self.bound = []                 # 变量的约束范围\n",
    "        self.bound.append(parameters[2])\n",
    "        self.bound.append(parameters[3])\n",
    " \n",
    "        self.pop_x = np.zeros((self.pop_size, self.var_num))    # 所有粒子的位置\n",
    "        self.pop_v = np.zeros((self.pop_size, self.var_num))    # 所有粒子的速度\n",
    "        self.p_best = np.zeros((self.pop_size, self.var_num))   # 每个粒子最优的位置\n",
    "        self.g_best = np.zeros((1, self.var_num))   # 全局最优的位置\n",
    " \n",
    "        # 初始化第0代初始全局最优解\n",
    "        temp = -1\n",
    "        for i in range(self.pop_size):\n",
    "            for j in range(self.var_num):\n",
    "                self.pop_x[i][j] = random.uniform(self.bound[0][j], self.bound[1][j])\n",
    "                self.pop_v[i][j] = random.uniform(0, 1)\n",
    "            self.p_best[i] = self.pop_x[i]      # 储存最优的个体\n",
    "            fit = self.fitness(self.p_best[i])\n",
    "            if fit > temp:\n",
    "                self.g_best = self.p_best[i]\n",
    "                temp = fit\n",
    " \n",
    "    def fitness(self, ind_var):\n",
    "        X = feature_train\n",
    "        y = target_train\n",
    "        \"\"\"\n",
    "        个体适应值计算\n",
    "        \"\"\"\n",
    "        x1 = ind_var[0]\n",
    "        x2 = ind_var[1]\n",
    "        x3 = ind_var[2]\n",
    "        \n",
    "        if x1==0:x1=0.001\n",
    "        if x2==0:x2=0.001\n",
    "        if x3==0:x3=0.001\n",
    "            \n",
    "        clf = SVR(C=x1,epsilon=x2,gamma=x3)\n",
    "        clf.fit(X, y)\n",
    "        \n",
    "        predictval=Func(feature_test)\n",
    "        \n",
    "        predictval1=predictval[0:int(len(predictval))]\n",
    "        \n",
    "        print(\"R2 = \",metrics.r2_score(target_test,predictval1)) # R2\n",
    "        \n",
    "        return  metrics.r2_score(target_test,predictval1)\n",
    " \n",
    "    def update_operator(self, pop_size):\n",
    "        \"\"\"\n",
    "        更新算子：更新下一时刻的位置和速度\n",
    "        \"\"\"\n",
    "        c1 = 2     # 学习因子，一般为2\n",
    "        c2 = 2\n",
    "        w = 0.4    # 自身权重因子\n",
    "        for i in range(pop_size):\n",
    "            # 更新速度\n",
    "            self.pop_v[i] = w * self.pop_v[i] + c1 * random.uniform(0, 1) * (\n",
    "                        self.p_best[i] - self.pop_x[i]) + c2 * random.uniform(0, 1) * (self.g_best - self.pop_x[i])\n",
    "            # 更新位置\n",
    "            self.pop_x[i] = self.pop_x[i] + self.pop_v[i]\n",
    "            # 越界保护\n",
    "            for j in range(self.var_num):\n",
    "                if self.pop_x[i][j] < self.bound[0][j]:\n",
    "                    self.pop_x[i][j] = self.bound[0][j]\n",
    "                if self.pop_x[i][j] > self.bound[1][j]:\n",
    "                    self.pop_x[i][j] = self.bound[1][j]\n",
    "            # 更新p_best和g_best\n",
    "            if self.fitness(self.pop_x[i]) > self.fitness(self.p_best[i]):\n",
    "                self.p_best[i] = self.pop_x[i]\n",
    "            if self.fitness(self.pop_x[i]) > self.fitness(self.g_best):\n",
    "                self.g_best = self.pop_x[i]\n",
    " \n",
    "    def main(self):\n",
    "        popobj = []\n",
    "        self.ng_best = np.zeros((1, self.var_num))[0]\n",
    "        for gen in range(self.NGEN):\n",
    "            self.update_operator(self.pop_size)\n",
    "            popobj.append(self.fitness(self.g_best))\n",
    "            print('############ Generation {} ############'.format(str(gen + 1)))\n",
    "            if self.fitness(self.g_best) > self.fitness(self.ng_best):\n",
    "                self.ng_best = self.g_best.copy()\n",
    "            print('最好的位置：{}'.format(self.ng_best))\n",
    "            print('最大的函数值：{}'.format(self.fitness(self.ng_best)))\n",
    "        print(\"---- End of (successful) Searching ----\")\n",
    " \n",
    "        plt.figure()\n",
    "        fig = plt.gcf()\n",
    "        fig.set_size_inches(18.5, 10.5)\n",
    "        plt.title(\"Figure1\")\n",
    "        plt.xlabel(\"iterators\", size=14)\n",
    "        plt.ylabel(\"fitness\", size=14)\n",
    "        t = [t for t in range(self.NGEN)]\n",
    "        plt.plot(t, popobj, color='b', linewidth=2)\n",
    "        plt.show()\n"
   ]
  },
  {
   "cell_type": "code",
   "execution_count": 63,
   "metadata": {
    "ExecuteTime": {
     "end_time": "2021-10-17T02:15:39.606436Z",
     "start_time": "2021-10-17T02:15:39.595434Z"
    }
   },
   "outputs": [],
   "source": [
    "model_dict_ANN=torch.load(\"ANN1.pth\")"
   ]
  },
  {
   "cell_type": "code",
   "execution_count": 49,
   "metadata": {
    "ExecuteTime": {
     "end_time": "2021-10-17T02:12:18.746127Z",
     "start_time": "2021-10-17T02:12:18.736125Z"
    }
   },
   "outputs": [],
   "source": [
    "def Func(a):\n",
    "    a = np.array(a)\n",
    "    a= torch.tensor(a)\n",
    "    a = a.to(torch.float32)\n",
    "    j = -model_dict_ANN(a)\n",
    "    k = j.detach().numpy()\n",
    "    return k\n"
   ]
  },
  {
   "cell_type": "code",
   "execution_count": 50,
   "metadata": {
    "ExecuteTime": {
     "end_time": "2021-10-17T02:12:19.191358Z",
     "start_time": "2021-10-17T02:12:19.183357Z"
    }
   },
   "outputs": [],
   "source": [
    "a = Func(feature.values[1,])"
   ]
  },
  {
   "cell_type": "code",
   "execution_count": 51,
   "metadata": {
    "ExecuteTime": {
     "end_time": "2021-10-17T02:12:21.026321Z",
     "start_time": "2021-10-17T02:12:21.015319Z"
    }
   },
   "outputs": [],
   "source": [
    "variable_range=pd.read_excel(r'第四题取值范围.xlsx').values#  可变参数的取值范围\n",
    "lb = variable_range[0,1:]\n",
    "ub = variable_range[1,1:]\n",
    "lb=np.array(lb,dtype=np.float)\n",
    "ub=np.array(ub,dtype=np.float)\n"
   ]
  },
  {
   "cell_type": "code",
   "execution_count": 59,
   "metadata": {
    "ExecuteTime": {
     "end_time": "2021-10-17T02:14:46.986121Z",
     "start_time": "2021-10-17T02:14:46.979119Z"
    }
   },
   "outputs": [],
   "source": [
    "feature_train,feature_test,target_train,target_test = train_test_split(feature,pIC50,test_size=0.1,random_state=8)\n"
   ]
  },
  {
   "cell_type": "code",
   "execution_count": 61,
   "metadata": {
    "ExecuteTime": {
     "end_time": "2021-10-17T02:15:15.802434Z",
     "start_time": "2021-10-17T02:15:15.788430Z"
    }
   },
   "outputs": [
    {
     "data": {
      "text/plain": [
       "(54, 20)"
      ]
     },
     "execution_count": 61,
     "metadata": {},
     "output_type": "execute_result"
    }
   ],
   "source": [
    "feature_test.shape"
   ]
  },
  {
   "cell_type": "code",
   "execution_count": null,
   "metadata": {},
   "outputs": [],
   "source": []
  },
  {
   "cell_type": "code",
   "execution_count": 72,
   "metadata": {
    "ExecuteTime": {
     "end_time": "2021-10-17T02:50:08.138211Z",
     "start_time": "2021-10-17T02:50:08.117206Z"
    }
   },
   "outputs": [
    {
     "ename": "IndexError",
     "evalue": "list index out of range",
     "output_type": "error",
     "traceback": [
      "\u001b[1;31m---------------------------------------------------------------------------\u001b[0m",
      "\u001b[1;31mIndexError\u001b[0m                                Traceback (most recent call last)",
      "\u001b[1;32m<ipython-input-72-d224797891c5>\u001b[0m in \u001b[0;36m<module>\u001b[1;34m\u001b[0m\n\u001b[0;32m      5\u001b[0m     \u001b[0mup\u001b[0m \u001b[1;33m=\u001b[0m \u001b[0mub\u001b[0m\u001b[1;33m\u001b[0m\u001b[1;33m\u001b[0m\u001b[0m\n\u001b[0;32m      6\u001b[0m     \u001b[0mparameters\u001b[0m \u001b[1;33m=\u001b[0m \u001b[1;33m[\u001b[0m\u001b[0mNGEN\u001b[0m\u001b[1;33m,\u001b[0m \u001b[0mpopsize\u001b[0m\u001b[1;33m,\u001b[0m \u001b[0mlow\u001b[0m\u001b[1;33m,\u001b[0m \u001b[0mup\u001b[0m\u001b[1;33m]\u001b[0m\u001b[1;33m\u001b[0m\u001b[1;33m\u001b[0m\u001b[0m\n\u001b[1;32m----> 7\u001b[1;33m     \u001b[0mpso\u001b[0m \u001b[1;33m=\u001b[0m \u001b[0mPSO\u001b[0m\u001b[1;33m(\u001b[0m\u001b[0mparameters\u001b[0m\u001b[1;33m)\u001b[0m\u001b[1;33m\u001b[0m\u001b[1;33m\u001b[0m\u001b[0m\n\u001b[0m\u001b[0;32m      8\u001b[0m     \u001b[0mpso\u001b[0m\u001b[1;33m.\u001b[0m\u001b[0mmain\u001b[0m\u001b[1;33m(\u001b[0m\u001b[1;33m)\u001b[0m\u001b[1;33m\u001b[0m\u001b[1;33m\u001b[0m\u001b[0m\n",
      "\u001b[1;32m<ipython-input-71-21cb9749ea82>\u001b[0m in \u001b[0;36m__init__\u001b[1;34m(self, parameters)\u001b[0m\n\u001b[0;32m      8\u001b[0m         \u001b[0mself\u001b[0m\u001b[1;33m.\u001b[0m\u001b[0mNGEN\u001b[0m \u001b[1;33m=\u001b[0m \u001b[0mparameters\u001b[0m\u001b[1;33m[\u001b[0m\u001b[1;36m0\u001b[0m\u001b[1;33m]\u001b[0m    \u001b[1;31m# 迭代的代数\u001b[0m\u001b[1;33m\u001b[0m\u001b[1;33m\u001b[0m\u001b[0m\n\u001b[0;32m      9\u001b[0m         \u001b[0mself\u001b[0m\u001b[1;33m.\u001b[0m\u001b[0mpop_size\u001b[0m \u001b[1;33m=\u001b[0m \u001b[0mparameters\u001b[0m\u001b[1;33m[\u001b[0m\u001b[1;36m1\u001b[0m\u001b[1;33m]\u001b[0m    \u001b[1;31m# 种群大小\u001b[0m\u001b[1;33m\u001b[0m\u001b[1;33m\u001b[0m\u001b[0m\n\u001b[1;32m---> 10\u001b[1;33m         \u001b[0mself\u001b[0m\u001b[1;33m.\u001b[0m\u001b[0mvar_num\u001b[0m \u001b[1;33m=\u001b[0m \u001b[0mlen\u001b[0m\u001b[1;33m(\u001b[0m\u001b[0mparameters\u001b[0m\u001b[1;33m[\u001b[0m\u001b[1;36m19\u001b[0m\u001b[1;33m]\u001b[0m\u001b[1;33m)\u001b[0m     \u001b[1;31m# 变量个数\u001b[0m\u001b[1;33m\u001b[0m\u001b[1;33m\u001b[0m\u001b[0m\n\u001b[0m\u001b[0;32m     11\u001b[0m         \u001b[0mself\u001b[0m\u001b[1;33m.\u001b[0m\u001b[0mbound\u001b[0m \u001b[1;33m=\u001b[0m \u001b[1;33m[\u001b[0m\u001b[1;33m]\u001b[0m                 \u001b[1;31m# 变量的约束范围\u001b[0m\u001b[1;33m\u001b[0m\u001b[1;33m\u001b[0m\u001b[0m\n\u001b[0;32m     12\u001b[0m         \u001b[0mself\u001b[0m\u001b[1;33m.\u001b[0m\u001b[0mbound\u001b[0m\u001b[1;33m.\u001b[0m\u001b[0mappend\u001b[0m\u001b[1;33m(\u001b[0m\u001b[0mparameters\u001b[0m\u001b[1;33m[\u001b[0m\u001b[1;36m19\u001b[0m\u001b[1;33m]\u001b[0m\u001b[1;33m)\u001b[0m\u001b[1;33m\u001b[0m\u001b[1;33m\u001b[0m\u001b[0m\n",
      "\u001b[1;31mIndexError\u001b[0m: list index out of range"
     ]
    }
   ],
   "source": [
    "\n",
    "if __name__ == '__main__':\n",
    "    NGEN = 20\n",
    "    popsize = 20\n",
    "    low = lb\n",
    "    up = ub\n",
    "    parameters = [NGEN, popsize, low, up]\n",
    "    pso = PSO(parameters)\n",
    "    pso.main()\n"
   ]
  },
  {
   "cell_type": "code",
   "execution_count": 54,
   "metadata": {
    "ExecuteTime": {
     "end_time": "2021-10-17T01:32:58.673562Z",
     "start_time": "2021-10-17T01:32:58.659559Z"
    }
   },
   "outputs": [
    {
     "name": "stdout",
     "output_type": "stream",
     "text": [
      "[ 6.61088022e+00  3.13483547e+00  8.45795817e-01  2.90563041e-02\n",
      "  3.63222191e+01  2.29470590e+01  1.55842584e+00  1.35166661e-01\n",
      " -2.88584434e-01  1.53167211e+00  1.08038021e+00  6.18007706e-01\n",
      "  2.30553964e+00  3.97200000e+01  3.24311274e+00  5.25000000e+02\n",
      "  4.05276790e+01  4.85985999e+00  8.12711228e-02  1.04593882e+01] [-12.203024]\n"
     ]
    }
   ],
   "source": [
    "print(xopt , fopt)"
   ]
  },
  {
   "cell_type": "code",
   "execution_count": 34,
   "metadata": {
    "ExecuteTime": {
     "end_time": "2021-10-16T07:24:27.793248Z",
     "start_time": "2021-10-16T07:24:27.759590Z"
    }
   },
   "outputs": [],
   "source": []
  }
 ],
 "metadata": {
  "kernelspec": {
   "display_name": "Python 3",
   "language": "python",
   "name": "python3"
  },
  "language_info": {
   "codemirror_mode": {
    "name": "ipython",
    "version": 3
   },
   "file_extension": ".py",
   "mimetype": "text/x-python",
   "name": "python",
   "nbconvert_exporter": "python",
   "pygments_lexer": "ipython3",
   "version": "3.8.5"
  }
 },
 "nbformat": 4,
 "nbformat_minor": 4
}
