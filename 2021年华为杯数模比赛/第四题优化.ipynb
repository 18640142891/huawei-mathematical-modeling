{
 "cells": [
  {
   "cell_type": "code",
   "execution_count": 1,
   "metadata": {
    "ExecuteTime": {
     "end_time": "2021-10-17T01:21:42.336241Z",
     "start_time": "2021-10-17T01:21:33.770828Z"
    }
   },
   "outputs": [],
   "source": [
    "from pandas import Series,DataFrame\n",
    "from numpy import *\n",
    "import numpy as np\n",
    "import pandas as pd\n",
    "import pandas\n",
    "import codecs\n",
    "import torch \n",
    "import torch.nn as nn \n",
    "from torch.autograd import Variable \n",
    "import torch.utils.data as Data \n",
    "import torchvision \n",
    "import matplotlib.pyplot as plt \n",
    "import csv\n",
    "from sklearn.model_selection import cross_val_score,train_test_split"
   ]
  },
  {
   "cell_type": "code",
   "execution_count": 2,
   "metadata": {
    "ExecuteTime": {
     "end_time": "2021-10-17T01:21:46.054643Z",
     "start_time": "2021-10-17T01:21:42.337241Z"
    }
   },
   "outputs": [],
   "source": [
    "df = pd.read_excel(r'sel_all.xlsx',header =0)"
   ]
  },
  {
   "cell_type": "code",
   "execution_count": 3,
   "metadata": {
    "ExecuteTime": {
     "end_time": "2021-10-17T01:21:46.070647Z",
     "start_time": "2021-10-17T01:21:46.056644Z"
    }
   },
   "outputs": [],
   "source": [
    "feature = df[['LipoaffinityIndex','MLogP','maxHsOH','minsssN','MDEC-23','nC','maxssO',\n",
    "             'minHsOH','BCUTc-1l','maxsssN','MLFER_A','minssO','SHsOH',\n",
    "              'SsOH','maxsOH','ATSp5','SwHBa','C1SP2','nHBAcc','minHBint5']]\n",
    "#feature = df[['C1SP2','nHBAcc','ATSc2','MDEC-23','C3SP2','nHBAcc_Lipinski','ATSc1',\n",
    "#              'ETA_BetaP_s','BCUTc-1h']]\n",
    "\n"
   ]
  },
  {
   "cell_type": "code",
   "execution_count": 4,
   "metadata": {
    "ExecuteTime": {
     "end_time": "2021-10-17T01:21:46.085650Z",
     "start_time": "2021-10-17T01:21:46.071647Z"
    }
   },
   "outputs": [],
   "source": [
    "pIC50 = df.values[:, -1]\n",
    "pIC50 = pd.DataFrame(pIC50)"
   ]
  },
  {
   "cell_type": "code",
   "execution_count": 7,
   "metadata": {
    "ExecuteTime": {
     "end_time": "2021-10-17T01:22:02.417005Z",
     "start_time": "2021-10-17T01:22:02.400003Z"
    }
   },
   "outputs": [],
   "source": [
    "class ANN(nn.Module):\n",
    "    def __init__(self):\n",
    "        super(ANN, self).__init__()\n",
    "        self.mlp = torch.nn.Sequential(\n",
    "            torch.nn.Linear(20, 1000),\n",
    "            torch.nn.Dropout(0.2),\n",
    "            torch.nn.ReLU(),\n",
    "            torch.nn.Linear(1000, 800),\n",
    "            torch.nn.Dropout(0.2),\n",
    "            torch.nn.ReLU(),\n",
    "            torch.nn.Linear(800, 600),\n",
    "            torch.nn.Dropout(0.2),\n",
    "            torch.nn.ReLU(),\n",
    "            torch.nn.Linear(600, 500),\n",
    "            torch.nn.Dropout(0.2),\n",
    "            torch.nn.ReLU(),\n",
    "            torch.nn.Linear(500, 300),\n",
    "            torch.nn.Dropout(0.2),\n",
    "            torch.nn.ReLU(),\n",
    "            torch.nn.Linear(300, 250),\n",
    "            torch.nn.Dropout(0.2),\n",
    "            torch.nn.ReLU(),\n",
    "            torch.nn.Linear(250, 1)\n",
    "        )\n",
    "\n",
    "        # init\n",
    "\n",
    "    def forward(self, x):\n",
    "        x = self.mlp(x)\n",
    "        return x\n",
    "#model_dict=torch.load(\"ANN.pth\")"
   ]
  },
  {
   "cell_type": "code",
   "execution_count": 7,
   "metadata": {
    "ExecuteTime": {
     "end_time": "2021-10-16T05:00:37.619064Z",
     "start_time": "2021-10-16T05:00:37.611062Z"
    }
   },
   "outputs": [],
   "source": [
    "feature = feature.astype(float)\n",
    "feature = torch.from_numpy(feature.values)\n",
    "feature = feature.float()\n",
    "pIC50 = pIC50.astype(float)\n",
    "pIC50 = torch.from_numpy(pIC50.values)\n",
    "pIC50 = pIC50.float()\n"
   ]
  },
  {
   "cell_type": "code",
   "execution_count": 9,
   "metadata": {
    "ExecuteTime": {
     "end_time": "2021-10-16T05:00:40.244291Z",
     "start_time": "2021-10-16T05:00:40.234289Z"
    }
   },
   "outputs": [],
   "source": [
    "lossData=[[]]\n",
    "model = ANN()"
   ]
  },
  {
   "cell_type": "code",
   "execution_count": 15,
   "metadata": {
    "ExecuteTime": {
     "end_time": "2021-10-16T05:05:03.926734Z",
     "start_time": "2021-10-16T05:04:29.074884Z"
    }
   },
   "outputs": [
    {
     "name": "stdout",
     "output_type": "stream",
     "text": [
      "epoch\t loss\t\n",
      "0"
     ]
    },
    {
     "name": "stderr",
     "output_type": "stream",
     "text": [
      "<ipython-input-15-db6a3aa0ddb1>:12: UserWarning: To copy construct from a tensor, it is recommended to use sourceTensor.clone().detach() or sourceTensor.clone().detach().requires_grad_(True), rather than torch.tensor(sourceTensor).\n",
      "  xx = torch.tensor(feature[start:end], dtype = torch.float, requires_grad = False)\n",
      "<ipython-input-15-db6a3aa0ddb1>:13: UserWarning: To copy construct from a tensor, it is recommended to use sourceTensor.clone().detach() or sourceTensor.clone().detach().requires_grad_(True), rather than torch.tensor(sourceTensor).\n",
      "  yy = torch.tensor(pIC50[start:end], dtype = torch.float, requires_grad = False)\n"
     ]
    },
    {
     "name": "stdout",
     "output_type": "stream",
     "text": [
      " 1.5836023\n",
      "10 1.1053729\n",
      "20 1.1023707\n",
      "30 1.1978526\n",
      "40 1.094581\n",
      "50 1.1963027\n",
      "60 1.2005458\n",
      "70 1.1519866\n",
      "80 1.1269196\n",
      "90 1.1101768\n",
      "100 1.0952128\n",
      "110 1.2230247\n",
      "120 1.0663292\n",
      "130 1.0883863\n",
      "140 1.2265183\n",
      "150 1.0828196\n",
      "160 1.1023023\n",
      "170 1.102582\n",
      "180 1.081222\n",
      "190 1.0940244\n"
     ]
    }
   ],
   "source": [
    "loss_func = nn.MSELoss()\n",
    "optim = torch.optim.Adam(model.parameters(), 0.0001)\n",
    "batch_size =64\n",
    "epochs = 200\n",
    "print(\"epoch\\t loss\\t\")\n",
    "losses = []\n",
    "for i in range(epochs):\n",
    "     batch_loss = []\n",
    "    # start和end分别是提取一个batch数据的起始和终止下标\n",
    "     for start in range(0, len(feature), batch_size):\n",
    "        end = start + batch_size if start + batch_size < len(feature) else len(feature)\n",
    "        xx = torch.tensor(feature[start:end], dtype = torch.float, requires_grad = False)\n",
    "        yy = torch.tensor(pIC50[start:end], dtype = torch.float, requires_grad = False)\n",
    "        predict = model(xx)\n",
    "        loss =loss_func(predict, yy)\n",
    "        optim.zero_grad()\n",
    "        loss.backward()\n",
    "        optim.step()\n",
    "        batch_loss.append(loss.data.numpy())\n",
    "    \n",
    "    # 每隔100步输出一下损失值（loss）\n",
    "     if i % 10==0:\n",
    "        losses.append(np.mean(batch_loss))\n",
    "        print(i, np.mean(batch_loss))"
   ]
  },
  {
   "cell_type": "code",
   "execution_count": 17,
   "metadata": {
    "ExecuteTime": {
     "end_time": "2021-10-16T05:05:29.761756Z",
     "start_time": "2021-10-16T05:05:29.739752Z"
    }
   },
   "outputs": [],
   "source": [
    "torch.save(model,\"ANN1.pth\")"
   ]
  },
  {
   "cell_type": "code",
   "execution_count": 8,
   "metadata": {
    "ExecuteTime": {
     "end_time": "2021-10-17T01:22:07.356516Z",
     "start_time": "2021-10-17T01:22:07.346514Z"
    }
   },
   "outputs": [],
   "source": [
    "import pyswarms\n",
    "import pyswarms as ps\n",
    "from pyswarms.utils.functions import single_obj as fx\n",
    "from pyswarms.single.global_best import GlobalBestPSO\n",
    "from pyswarm import pso"
   ]
  },
  {
   "cell_type": "code",
   "execution_count": 9,
   "metadata": {
    "ExecuteTime": {
     "end_time": "2021-10-17T01:22:07.808543Z",
     "start_time": "2021-10-17T01:22:07.789539Z"
    }
   },
   "outputs": [],
   "source": [
    "model_dict_ANN=torch.load(\"ANN1.pth\")"
   ]
  },
  {
   "cell_type": "code",
   "execution_count": 10,
   "metadata": {
    "ExecuteTime": {
     "end_time": "2021-10-17T01:22:09.611005Z",
     "start_time": "2021-10-17T01:22:09.601003Z"
    }
   },
   "outputs": [],
   "source": [
    "def Func(a):\n",
    "    a= torch.tensor(a)\n",
    "    a = a.to(torch.float32)\n",
    "    j = -model_dict_ANN(a)\n",
    "    k = j.detach().numpy()\n",
    "    return k\n"
   ]
  },
  {
   "cell_type": "code",
   "execution_count": 38,
   "metadata": {
    "ExecuteTime": {
     "end_time": "2021-10-17T01:31:53.688997Z",
     "start_time": "2021-10-17T01:31:53.680995Z"
    }
   },
   "outputs": [],
   "source": [
    "a = Func(feature.values[1,])"
   ]
  },
  {
   "cell_type": "code",
   "execution_count": 39,
   "metadata": {
    "ExecuteTime": {
     "end_time": "2021-10-17T01:31:57.191974Z",
     "start_time": "2021-10-17T01:31:57.176971Z"
    }
   },
   "outputs": [
    {
     "data": {
      "text/plain": [
       "array([-6.1592464], dtype=float32)"
      ]
     },
     "execution_count": 39,
     "metadata": {},
     "output_type": "execute_result"
    }
   ],
   "source": [
    "a"
   ]
  },
  {
   "cell_type": "code",
   "execution_count": 37,
   "metadata": {
    "ExecuteTime": {
     "end_time": "2021-10-17T01:31:44.639786Z",
     "start_time": "2021-10-17T01:31:44.624783Z"
    }
   },
   "outputs": [
    {
     "data": {
      "text/plain": [
       "array([ 5.79216498e+00,  3.11000000e+00,  4.99770093e-01,  0.00000000e+00,\n",
       "        2.29985968e+01,  1.80000000e+01,  0.00000000e+00,  2.57051918e-01,\n",
       "       -3.90588644e-01,  0.00000000e+00,  1.14700000e+00,  0.00000000e+00,\n",
       "        1.07109615e+00,  3.02024609e+01,  1.03910051e+01,  2.66847641e+03,\n",
       "        8.84471444e+00,  0.00000000e+00,  2.00000000e+00,  0.00000000e+00])"
      ]
     },
     "execution_count": 37,
     "metadata": {},
     "output_type": "execute_result"
    }
   ],
   "source": [
    "feature.values[1,]"
   ]
  },
  {
   "cell_type": "code",
   "execution_count": 12,
   "metadata": {
    "ExecuteTime": {
     "end_time": "2021-10-17T01:22:35.573664Z",
     "start_time": "2021-10-17T01:22:35.550658Z"
    }
   },
   "outputs": [],
   "source": [
    "variable_range=pd.read_excel(r'第四题取值范围.xlsx').values#  可变参数的取值范围\n",
    "lb = variable_range[0,1:]\n",
    "ub = variable_range[1,1:]\n",
    "lb=np.array(lb,dtype=np.float)\n",
    "ub=np.array(ub,dtype=np.float)\n"
   ]
  },
  {
   "cell_type": "code",
   "execution_count": 44,
   "metadata": {
    "ExecuteTime": {
     "end_time": "2021-10-16T07:36:58.786820Z",
     "start_time": "2021-10-16T07:36:58.769991Z"
    }
   },
   "outputs": [],
   "source": [
    "#options = {'c1': 0.5, 'c2': 0.3, 'w': 0.9} # 粒子群算法的参数\n",
    "#optimizer = GlobalBestPSO(n_particles=20, dimensions=20, options=options, bounds=bounds)\n",
    "#cost, pos = optimizer.optimize(Func, iters=1000)"
   ]
  },
  {
   "cell_type": "code",
   "execution_count": 53,
   "metadata": {
    "ExecuteTime": {
     "end_time": "2021-10-17T01:32:58.657559Z",
     "start_time": "2021-10-17T01:32:50.284299Z"
    }
   },
   "outputs": [
    {
     "name": "stdout",
     "output_type": "stream",
     "text": [
      "Stopping search: maximum iterations reached --> 120\n"
     ]
    }
   ],
   "source": [
    "xopt, fopt = pso(Func, lb, ub, f_ieqcons=None, args=(), kwargs={},\n",
    "    swarmsize=100, omega=0.5, phip=0.5, phig=0.5, maxiter=120, minstep=1e-8,\n",
    "    minfunc=1e-8, debug=False)\n"
   ]
  },
  {
   "cell_type": "code",
   "execution_count": 54,
   "metadata": {
    "ExecuteTime": {
     "end_time": "2021-10-17T01:32:58.673562Z",
     "start_time": "2021-10-17T01:32:58.659559Z"
    }
   },
   "outputs": [
    {
     "name": "stdout",
     "output_type": "stream",
     "text": [
      "[ 6.61088022e+00  3.13483547e+00  8.45795817e-01  2.90563041e-02\n",
      "  3.63222191e+01  2.29470590e+01  1.55842584e+00  1.35166661e-01\n",
      " -2.88584434e-01  1.53167211e+00  1.08038021e+00  6.18007706e-01\n",
      "  2.30553964e+00  3.97200000e+01  3.24311274e+00  5.25000000e+02\n",
      "  4.05276790e+01  4.85985999e+00  8.12711228e-02  1.04593882e+01] [-12.203024]\n"
     ]
    }
   ],
   "source": [
    "print(xopt , fopt)"
   ]
  },
  {
   "cell_type": "code",
   "execution_count": 34,
   "metadata": {
    "ExecuteTime": {
     "end_time": "2021-10-16T07:24:27.793248Z",
     "start_time": "2021-10-16T07:24:27.759590Z"
    }
   },
   "outputs": [],
   "source": []
  }
 ],
 "metadata": {
  "kernelspec": {
   "display_name": "Python 3",
   "language": "python",
   "name": "python3"
  },
  "language_info": {
   "codemirror_mode": {
    "name": "ipython",
    "version": 3
   },
   "file_extension": ".py",
   "mimetype": "text/x-python",
   "name": "python",
   "nbconvert_exporter": "python",
   "pygments_lexer": "ipython3",
   "version": "3.8.5"
  }
 },
 "nbformat": 4,
 "nbformat_minor": 4
}
