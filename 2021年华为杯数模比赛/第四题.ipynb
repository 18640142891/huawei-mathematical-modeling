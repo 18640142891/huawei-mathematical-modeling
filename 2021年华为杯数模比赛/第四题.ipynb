{
 "cells": [
  {
   "cell_type": "code",
   "execution_count": 1,
   "metadata": {
    "ExecuteTime": {
     "end_time": "2021-10-15T07:01:44.088311Z",
     "start_time": "2021-10-15T07:01:42.114040Z"
    }
   },
   "outputs": [],
   "source": [
    "from pandas import Series,DataFrame\n",
    "from numpy import *\n",
    "import matplotlib.pyplot as plt \n",
    "import numpy as np\n",
    "import pandas as pd\n",
    "import pandas\n",
    "import csv\n",
    "import codecs\n",
    "from sklearn.model_selection import cross_val_score,train_test_split"
   ]
  },
  {
   "cell_type": "code",
   "execution_count": 20,
   "metadata": {
    "ExecuteTime": {
     "end_time": "2021-10-15T07:05:22.381351Z",
     "start_time": "2021-10-15T07:05:12.187720Z"
    }
   },
   "outputs": [],
   "source": [
    "df = pd.read_excel(r'4.xlsx',header =0)\n",
    "b = int(df.shape[0])\n",
    "d = 0\n",
    "c = 0"
   ]
  },
  {
   "cell_type": "code",
   "execution_count": 33,
   "metadata": {
    "ExecuteTime": {
     "end_time": "2021-10-15T07:09:25.558102Z",
     "start_time": "2021-10-15T07:09:25.550142Z"
    }
   },
   "outputs": [
    {
     "data": {
      "text/plain": [
       "(1, 735)"
      ]
     },
     "execution_count": 33,
     "metadata": {},
     "output_type": "execute_result"
    }
   ],
   "source": [
    "ture = [1,0,0,1,0]\n",
    "sel = [735*[0]]\n",
    "sel = np.array(sel)\n",
    "#sel = pd.DataFrame(sel)\n",
    "\n",
    "sel.shape"
   ]
  },
  {
   "cell_type": "code",
   "execution_count": 34,
   "metadata": {
    "ExecuteTime": {
     "end_time": "2021-10-15T07:09:27.130453Z",
     "start_time": "2021-10-15T07:09:27.078708Z"
    }
   },
   "outputs": [
    {
     "data": {
      "text/plain": [
       "array([0, 1, 1, 0, 1], dtype=object)"
      ]
     },
     "execution_count": 34,
     "metadata": {},
     "output_type": "execute_result"
    }
   ],
   "source": [
    "\n",
    "ver =  df.values[2,730:735]\n",
    "ver"
   ]
  },
  {
   "cell_type": "code",
   "execution_count": 35,
   "metadata": {
    "ExecuteTime": {
     "end_time": "2021-10-15T07:11:12.931011Z",
     "start_time": "2021-10-15T07:09:27.497643Z"
    }
   },
   "outputs": [],
   "source": [
    "for i in range(1927):\n",
    "    ver =  df.values[i,730:735]\n",
    "    e = ver == ture\n",
    "    ver_1 = [df.values[i,]]\n",
    "   # ver = pd.DataFrame(ver)\n",
    "    a = np.sum(e!=0)\n",
    "    if (a > 2):\n",
    "        d = d+1\n",
    "        sel = np.concatenate((sel,ver_1),axis=0)"
   ]
  },
  {
   "cell_type": "code",
   "execution_count": null,
   "metadata": {
    "ExecuteTime": {
     "end_time": "2021-10-15T07:07:03.082068Z",
     "start_time": "2021-10-15T07:07:03.075103Z"
    }
   },
   "outputs": [],
   "source": []
  },
  {
   "cell_type": "code",
   "execution_count": 37,
   "metadata": {
    "ExecuteTime": {
     "end_time": "2021-10-15T07:11:38.807884Z",
     "start_time": "2021-10-15T07:11:38.799924Z"
    }
   },
   "outputs": [
    {
     "data": {
      "text/plain": [
       "(543, 735)"
      ]
     },
     "execution_count": 37,
     "metadata": {},
     "output_type": "execute_result"
    }
   ],
   "source": [
    "sel.shape"
   ]
  },
  {
   "cell_type": "code",
   "execution_count": 38,
   "metadata": {
    "ExecuteTime": {
     "end_time": "2021-10-15T07:11:40.560970Z",
     "start_time": "2021-10-15T07:11:40.554004Z"
    }
   },
   "outputs": [
    {
     "data": {
      "text/plain": [
       "array([[0, 0, 0, ..., 0, 0, 0],\n",
       "       ['Oc1cccc(c1)C2=Cc3cc(O)ccc3C24Cc5ccccc5C4', 0, 2.92079999999999,\n",
       "        ..., 0, 0, 0],\n",
       "       ['CC\\\\C(=C(/c1ccccc1)\\\\c2ccc(\\\\C=C\\\\C(=O)O)cc2)\\\\c3ccccc3', 1,\n",
       "        3.9326, ..., 1, 1, 0],\n",
       "       ...,\n",
       "       ['Cc1cccc2[nH]c(nc12)c3cc4ccccc4[nH]3', 0, 0.8412, ..., 0, 1, 1],\n",
       "       ['Brc1ccc2[nH]c(nc2c1)c3cc4ccccc4[nH]3', 0, 0.847499999999999,\n",
       "        ..., 0, 1, 1],\n",
       "       ['N1C(=Nc2cccc3cccc1c23)c4cc5ccccc5[nH]4', 0, 0.939199999999999,\n",
       "        ..., 0, 1, 1]], dtype=object)"
      ]
     },
     "execution_count": 38,
     "metadata": {},
     "output_type": "execute_result"
    }
   ],
   "source": [
    "sel"
   ]
  },
  {
   "cell_type": "code",
   "execution_count": 39,
   "metadata": {
    "ExecuteTime": {
     "end_time": "2021-10-15T07:11:47.229215Z",
     "start_time": "2021-10-15T07:11:47.188417Z"
    }
   },
   "outputs": [],
   "source": [
    "sel_df = pd.DataFrame(sel)"
   ]
  },
  {
   "cell_type": "code",
   "execution_count": 40,
   "metadata": {
    "ExecuteTime": {
     "end_time": "2021-10-15T07:12:02.512830Z",
     "start_time": "2021-10-15T07:11:58.886699Z"
    }
   },
   "outputs": [],
   "source": [
    "sel_df.to_excel('sel_all.xlsx')\n",
    "\n"
   ]
  },
  {
   "cell_type": "code",
   "execution_count": 41,
   "metadata": {
    "ExecuteTime": {
     "end_time": "2021-10-15T08:23:17.288964Z",
     "start_time": "2021-10-15T08:23:17.268067Z"
    }
   },
   "outputs": [],
   "source": [
    "from math import sqrt"
   ]
  },
  {
   "cell_type": "code",
   "execution_count": null,
   "metadata": {},
   "outputs": [],
   "source": [
    "data"
   ]
  },
  {
   "cell_type": "code",
   "execution_count": null,
   "metadata": {},
   "outputs": [],
   "source": [
    "LipoaffinityIndex="
   ]
  },
  {
   "cell_type": "code",
   "execution_count": 42,
   "metadata": {
    "ExecuteTime": {
     "end_time": "2021-10-15T08:23:35.515505Z",
     "start_time": "2021-10-15T08:23:35.491623Z"
    }
   },
   "outputs": [],
   "source": [
    "def corrcoef(x,y):\n",
    "    n=len(x)\n",
    "    #求和\n",
    "    sum1=sum(x)\n",
    "    sum2=sum(y)\n",
    "    #求乘积之和\n",
    "    sumofxy=multipl(x,y)\n",
    "    #求平方和\n",
    "    sumofx2 = sum([pow(i,2) for i in x])\n",
    "    sumofy2 = sum([pow(j,2) for j in y])\n",
    "    num=sumofxy-(float(sum1)*float(sum2)/n)\n",
    "    #计算皮尔逊相关系数\n",
    "    den=sqrt((sumofx2-float(sum1**2)/n)*(sumofy2-float(sum2**2)/n))\n",
    "    return num/den"
   ]
  },
  {
   "cell_type": "code",
   "execution_count": null,
   "metadata": {},
   "outputs": [],
   "source": []
  }
 ],
 "metadata": {
  "kernelspec": {
   "display_name": "Python 3",
   "language": "python",
   "name": "python3"
  },
  "language_info": {
   "codemirror_mode": {
    "name": "ipython",
    "version": 3
   },
   "file_extension": ".py",
   "mimetype": "text/x-python",
   "name": "python",
   "nbconvert_exporter": "python",
   "pygments_lexer": "ipython3",
   "version": "3.8.5"
  }
 },
 "nbformat": 4,
 "nbformat_minor": 4
}
